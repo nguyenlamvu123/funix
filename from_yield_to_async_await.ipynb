{
 "cells": [
  {
   "cell_type": "markdown",
   "id": "f4460f22-58bc-49c8-a98c-c88f197f95ce",
   "metadata": {},
   "source": [
    "site: https://mleue.com/posts/yield-to-async-await/  \n",
    "In generators, the behavior at yield statements is limited to “producing” values  \n",
    "Upto coroutines, a value is sent in when resuming a generator, a function that can be stopped/resumed at specific points and can both produce/receive a values at these points  \n",
    "site: https://cafedev.vn/tu-hoc-python-coroutine-trong-python/ \n",
    "Việc chuyển đổi giữa các threads theo một lịch trình cụ thể được thực hiện bởi hệ điều hành (hoặc run time environment – môi trường thời gian chạy). Trong khi đối với các coroutine, các lập trình viên hoặc ngôn ngữ lập trình sẽ quyết định khi nào chuyển đổi giữa các coroutines. Các coroutines xử lý đa tác vụ một cách kết hợp bằng cách tạm dừng và trở lại thực thi tiếp tại một điểm/mốc được chỉ định bởi lập trình viên  \n",
    "site: https://superfastpython.com/python-coroutine/  \n",
    "Perhaps more correctly, a routine is a program, whereas a subroutine is a function in the program.  \n",
    "A coroutine is a generalization of a subroutine.The main difference is that it chooses to suspend and resume its execution many times before returning and exiting.  \n",
    "Generators, also known as semicoroutines, are a subset of coroutines  \n",
    "A subroutine and a coroutine may represent a “task” in a program.  \n",
    "A coroutine is more lightweight than a thread, a thread is more lightweight than a process. A coroutine is defined as a function. Processe, like thread, is an object created and managed by the underlying operating system and represented in Python as a `threading.Thread` object or a `multiprocessing.Process` object  \n",
    "A coroutine can be defined via the “async def” expression.  "
   ]
  },
  {
   "cell_type": "code",
   "execution_count": 1,
   "id": "ae6fef24-beb4-44b3-bc76-f14892a6e7a8",
   "metadata": {},
   "outputs": [],
   "source": [
    "import asyncio\n",
    "import time"
   ]
  },
  {
   "cell_type": "code",
   "execution_count": null,
   "id": "c0922d6f-aece-4320-9366-1d2449f0e76f",
   "metadata": {},
   "outputs": [],
   "source": [
    "# define a coroutine\n",
    "async def custom_coro():\n",
    "    # await another coroutine\n",
    "    await asyncio.sleep(1)\n",
    " \n",
    "# main coroutine\n",
    "async def main():\n",
    "    # execute my custom coroutine\n",
    "    await custom_coro()\n",
    " \n",
    "# start the coroutine program\n",
    "asyncio.run(main())"
   ]
  },
  {
   "cell_type": "code",
   "execution_count": null,
   "id": "22385003-deba-4c99-b86e-02d2e0943841",
   "metadata": {},
   "outputs": [],
   "source": [
    "def coro():\n",
    "    while True:\n",
    "        value = yield\n",
    "        print(f\"Got: {value}\")\n",
    "\n",
    "c = coro()\n",
    "c.send(None)\n",
    "c.send(\"Hello\")\n",
    "c.send(\"World\")"
   ]
  },
  {
   "cell_type": "code",
   "execution_count": null,
   "id": "1d41d6d5-243b-4829-bbc2-3020ac19232c",
   "metadata": {},
   "outputs": [],
   "source": [
    "def simple_get_page():\n",
    "    print(\"Starting to download page\")\n",
    "    time.sleep(1)\n",
    "    print(\"Done downloading page\")\n",
    "    return \"<html>Hello</html>\"\n",
    "\n",
    "def simple_read_db():\n",
    "    print(\"Starting to retrieve data from db\")\n",
    "    time.sleep(0.5)\n",
    "    print(\"Connected to db\")\n",
    "    time.sleep(1)\n",
    "    print(\"Done retrieving data from db\")\n",
    "    return \"db-data\"\n",
    "\n",
    "def run():\n",
    "\tstart = time.time()\n",
    "\tsimple_get_page()\n",
    "\tsimple_read_db()\n",
    "\tprint(f\"Time elapsed: {time.time()-start:.3}s\")\n",
    "run()"
   ]
  },
  {
   "cell_type": "code",
   "execution_count": null,
   "id": "877e82fc-f034-4e1f-ad20-eb00c2880496",
   "metadata": {},
   "outputs": [],
   "source": [
    "import heapq\n",
    "from collections import deque\n",
    "\n",
    "def scheduler(coros):\n",
    "    start = time.time()\n",
    "    ready = deque(coros)\n",
    "    sleeping = []\n",
    "    while True:\n",
    "        if not ready and not sleeping:\n",
    "            break\n",
    "            \n",
    "        # wait for nearest sleeper,\n",
    "        # if no coro can be executed immediately right now\n",
    "        if not ready:\n",
    "            deadline, coro = heapq.heappop(sleeping)\n",
    "            if deadline > time.time():\n",
    "                time.sleep(deadline - time.time())\n",
    "            ready.append(coro)\n",
    "            \n",
    "        try:                \n",
    "            coro = ready.popleft()\n",
    "            result = coro.send(None)\n",
    "            # the special case of a coro that wants to be put to sleep\n",
    "            if len(result) == 2 and result[0] == \"sleep\":\n",
    "                deadline = time.time() + result[1]\n",
    "                heapq.heappush(sleeping, (deadline, coro))\n",
    "            else:\n",
    "                print(f\"Got: {result}\")\n",
    "                ready.append(coro)\n",
    "        except StopIteration:\n",
    "            pass\n",
    "    print(f\"Time elapsed: {time.time()-start:.3}s\")"
   ]
  },
  {
   "cell_type": "code",
   "execution_count": null,
   "id": "c1d4153a-e01f-443c-a6d2-0840cc0d62c3",
   "metadata": {},
   "outputs": [],
   "source": [
    "def get_page_():\n",
    "    print(\"Starting to download page\")\n",
    "    yield (\"sleep\", 1)\n",
    "    print(\"Done downloading page\")\n",
    "    yield \"<html>Hello</html>\"\n",
    "\n",
    "def read_db_():\n",
    "    print(\"Starting to retrieve data from db\")\n",
    "    yield (\"sleep\", 0.5)\n",
    "    print(\"Connected to db\")\n",
    "    yield (\"sleep\", 1)\n",
    "    print(\"Done retrieving data from db\")\n",
    "    yield \"db-data\"\n",
    "\n",
    "def write_db_(data):\n",
    "    print(\"Starting to write data to db\")\n",
    "    yield (\"sleep\", 0.5)\n",
    "    print(\"Connected to db\")\n",
    "    yield (\"sleep\", 1)\n",
    "    print(\"Done writing data to db\")\n",
    "\n",
    "def worker():\n",
    "    for step in get_page_():\n",
    "        yield step\n",
    "    page = step\n",
    "    for step in write_db_(page):\n",
    "        yield step\n",
    "# scheduler([get_page(), read_db()])\n",
    "scheduler([worker()])"
   ]
  },
  {
   "cell_type": "code",
   "execution_count": null,
   "id": "c456e248-5616-4662-a1e5-7d4dbbdf2106",
   "metadata": {},
   "outputs": [],
   "source": [
    "def worker_():\n",
    "    page = yield from get_page_()\n",
    "    yield from write_db_(page)\n",
    "scheduler([worker_(), worker_(), worker_()])"
   ]
  },
  {
   "cell_type": "code",
   "execution_count": null,
   "id": "ab906d2a-2729-4cf8-b36b-67d12aaf1664",
   "metadata": {},
   "outputs": [],
   "source": [
    "async def get_page():\n",
    "    print(\"Starting to download page\")\n",
    "    await time.sleep(1)\n",
    "    print(\"Done downloading page\")\n",
    "    return \"<html>Hello</html>\"\n",
    "\n",
    "async def write_db(data):\n",
    "    print(\"Starting to write data to db\")\n",
    "    await time.sleep(0.5)\n",
    "    print(\"Connected to db\")\n",
    "    await time.sleep(1)\n",
    "    print(\"Done writing data to db\")\n",
    "\n",
    "async def worker():\n",
    "    page = await get_page()\n",
    "    await write_db(page)\n",
    "scheduler([worker(), worker(), worker()])"
   ]
  },
  {
   "cell_type": "code",
   "execution_count": null,
   "id": "89426e5e-cd09-42e1-a3bc-729fb41b7c8d",
   "metadata": {},
   "outputs": [],
   "source": [
    "asyncio.run(asyncio.gather(worker(), worker(), worker()))"
   ]
  }
 ],
 "metadata": {
  "kernelspec": {
   "display_name": "Python 3 (ipykernel)",
   "language": "python",
   "name": "python3"
  },
  "language_info": {
   "codemirror_mode": {
    "name": "ipython",
    "version": 3
   },
   "file_extension": ".py",
   "mimetype": "text/x-python",
   "name": "python",
   "nbconvert_exporter": "python",
   "pygments_lexer": "ipython3",
   "version": "3.10.12"
  }
 },
 "nbformat": 4,
 "nbformat_minor": 5
}
